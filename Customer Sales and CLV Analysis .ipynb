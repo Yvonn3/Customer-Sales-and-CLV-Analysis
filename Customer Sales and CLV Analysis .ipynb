{
 "cells": [
  {
   "cell_type": "markdown",
   "id": "52329134-8da6-4868-b73e-0e268c496755",
   "metadata": {},
   "source": [
    "# Customer Sales and CLV Analysis "
   ]
  },
  {
   "cell_type": "markdown",
   "id": "b75abeab-cf33-41a1-bd17-0feafeb82187",
   "metadata": {},
   "source": [
    "Author: Ting-Yu Hsu"
   ]
  },
  {
   "cell_type": "markdown",
   "id": "2f5a21bf",
   "metadata": {},
   "source": [
    "# Step 1: Understand the dataset (5 points)"
   ]
  },
  {
   "cell_type": "code",
   "execution_count": 1,
   "id": "d2e4cd62-d60c-484a-b7e8-e55b87444314",
   "metadata": {},
   "outputs": [],
   "source": [
    "import pandas as pd\n",
    "df = pd.read_csv('customer_sales.csv')"
   ]
  },
  {
   "cell_type": "markdown",
   "id": "5283ac9f",
   "metadata": {},
   "source": [
    "### 1. Are there any missing values in the dataset? (0.5)"
   ]
  },
  {
   "cell_type": "code",
   "execution_count": 2,
   "id": "447a8c65",
   "metadata": {},
   "outputs": [
    {
     "name": "stdout",
     "output_type": "stream",
     "text": [
      "Order ID          0\n",
      "Order Date        6\n",
      "Customer Name     1\n",
      "Country           1\n",
      "State             4\n",
      "City              4\n",
      "Region            0\n",
      "Segment           1\n",
      "Ship Mode         5\n",
      "Category          5\n",
      "Sub-Category      0\n",
      "Product Name      0\n",
      "Discount          7\n",
      "Sales             2\n",
      "Profit           13\n",
      "Quantity         13\n",
      "dtype: int64\n",
      "there are 62 missing values\n"
     ]
    }
   ],
   "source": [
    "missing_values = df.isna().sum()\n",
    "print(missing_values)\n",
    "print(f'there are {missing_values.sum()} missing values')"
   ]
  },
  {
   "cell_type": "markdown",
   "id": "9b07fd9f",
   "metadata": {},
   "source": [
    "### 2. What is the range of dates in the dataset? (1.5)"
   ]
  },
  {
   "cell_type": "code",
   "execution_count": 3,
   "id": "3c981ba3",
   "metadata": {},
   "outputs": [
    {
     "name": "stdout",
     "output_type": "stream",
     "text": [
      "The range of dates in the dataset is 1460 days from 2014-12-31 to 2011-01-01\n"
     ]
    },
    {
     "name": "stderr",
     "output_type": "stream",
     "text": [
      "/var/folders/h6/klvb6_m549910x127srrt7040000gn/T/ipykernel_25183/2286883469.py:1: UserWarning: Could not infer format, so each element will be parsed individually, falling back to `dateutil`. To ensure parsing is consistent and as-expected, please specify a format.\n",
      "  df['Order Date'] = pd.to_datetime(df['Order Date'])\n"
     ]
    }
   ],
   "source": [
    "df['Order Date'] = pd.to_datetime(df['Order Date'])\n",
    "latest_date = df['Order Date'].max()\n",
    "ealiest_date = df['Order Date'].min()\n",
    "date_range_days = (latest_date - ealiest_date).days\n",
    "print(f\"The range of dates in the dataset is {date_range_days} days from {latest_date.strftime('%Y-%m-%d')} to {ealiest_date.strftime('%Y-%m-%d')}\")"
   ]
  },
  {
   "cell_type": "markdown",
   "id": "0a8e3d28",
   "metadata": {},
   "source": [
    "### 3. How many unique customers are there in the dataset? (0.5)"
   ]
  },
  {
   "cell_type": "code",
   "execution_count": 4,
   "id": "c3e9d998",
   "metadata": {},
   "outputs": [
    {
     "name": "stdout",
     "output_type": "stream",
     "text": [
      "There are 793 unique customers\n"
     ]
    }
   ],
   "source": [
    "print(f\"There are {len(df['Customer Name'].unique())} unique customers\")"
   ]
  },
  {
   "cell_type": "markdown",
   "id": "3ea401af",
   "metadata": {},
   "source": [
    "### 4. How many unique orders are there in the dataset? (0.5)"
   ]
  },
  {
   "cell_type": "code",
   "execution_count": 5,
   "id": "923b744d",
   "metadata": {},
   "outputs": [
    {
     "name": "stdout",
     "output_type": "stream",
     "text": [
      "There are 4117 unique orders\n"
     ]
    }
   ],
   "source": [
    "print(f\"There are {len(df['Order ID'].unique())} unique orders\")"
   ]
  },
  {
   "cell_type": "markdown",
   "id": "8f477e2c",
   "metadata": {},
   "source": [
    "### 5. Profile the data to give the standard descriptive statistics for the Sales field. What are the min, max, variance, and standard deviations? (0.5)"
   ]
  },
  {
   "cell_type": "code",
   "execution_count": 6,
   "id": "ddb95e4e",
   "metadata": {},
   "outputs": [
    {
     "name": "stderr",
     "output_type": "stream",
     "text": [
      "<>:1: SyntaxWarning: invalid escape sequence '\\$'\n",
      "<>:1: SyntaxWarning: invalid escape sequence '\\$'\n",
      "/var/folders/h6/klvb6_m549910x127srrt7040000gn/T/ipykernel_25183/2615467597.py:1: SyntaxWarning: invalid escape sequence '\\$'\n",
      "  df['Sales'] = df['Sales'].replace('[\\$,]', '', regex=True).astype(float)\n"
     ]
    }
   ],
   "source": [
    "df['Sales'] = df['Sales'].replace('[\\$,]', '', regex=True).astype(float)"
   ]
  },
  {
   "cell_type": "code",
   "execution_count": 7,
   "id": "71cc886d",
   "metadata": {},
   "outputs": [
    {
     "name": "stdout",
     "output_type": "stream",
     "text": [
      "Minimum Sales: -110.0\n",
      "Maximum Sales: 206000.0\n",
      "Variance of Sales: 10355997.724068953\n",
      "Standard Deviation of Sales: 3218.0736045138797\n"
     ]
    }
   ],
   "source": [
    "min_sales = df['Sales'].min()\n",
    "max_sales = df['Sales'].max()\n",
    "variance_sales = df['Sales'].var()\n",
    "std_deviation_sales = df['Sales'].std()\n",
    "\n",
    "print(\"Minimum Sales:\", min_sales)\n",
    "print(\"Maximum Sales:\", max_sales)\n",
    "print(\"Variance of Sales:\", variance_sales)\n",
    "print(\"Standard Deviation of Sales:\", std_deviation_sales)"
   ]
  },
  {
   "cell_type": "markdown",
   "id": "135b4bdb",
   "metadata": {},
   "source": [
    "### 6. Do transaction amounts (sales) in general increase over time (perhaps due to inflation)? (1.5)"
   ]
  },
  {
   "cell_type": "code",
   "execution_count": 8,
   "id": "99600981",
   "metadata": {},
   "outputs": [
    {
     "data": {
      "text/plain": [
       "Text(0, 0.5, 'Transaction Amount')"
      ]
     },
     "execution_count": 8,
     "metadata": {},
     "output_type": "execute_result"
    },
    {
     "data": {
      "image/png": "[encoded data removed]",
      "text/plain": [
       "<Figure size 640x480 with 1 Axes>"
      ]
     },
     "metadata": {},
     "output_type": "display_data"
    }
   ],
   "source": [
    "%matplotlib inline\n",
    "import matplotlib.pyplot as plt\n",
    "\n",
    "df_con = df.groupby(df['Order Date'].dt.year)['Sales'].sum().reset_index()\n",
    "df_con\n",
    "plt.plot(df_con['Order Date'], df_con['Sales'])\n",
    "plt.xlabel(\"Year\")\n",
    "plt.ylabel(\"Transaction Amount\")"
   ]
  },
  {
   "cell_type": "markdown",
   "id": "9508f039",
   "metadata": {},
   "source": [
    "Seeing from the trend, the sales decreased in 2012 and then rebounded in 2013 and then dropped in 2014. However, the graph is somehow abnormal may be because there are some ouliers, which is extremely huge. To better get insights from visualization, I manually eliminate outliers, which are sales over 100,000."
   ]
  },
  {
   "cell_type": "code",
   "execution_count": 9,
   "id": "51bbfaa0",
   "metadata": {},
   "outputs": [
    {
     "data": {
      "text/plain": [
       "Text(0, 0.5, 'Transaction Amount')"
      ]
     },
     "execution_count": 9,
     "metadata": {},
     "output_type": "execute_result"
    },
    {
     "data": {
      "image/png": "[encoded data removed]",
      "text/plain": [
       "<Figure size 640x480 with 1 Axes>"
      ]
     },
     "metadata": {},
     "output_type": "display_data"
    }
   ],
   "source": [
    "%matplotlib inline\n",
    "import matplotlib.pyplot as plt\n",
    "\n",
    "df_cleaned = df[df['Sales'] <= 100000]\n",
    "df_con = df_cleaned.groupby(df_cleaned['Order Date'].dt.year)['Sales'].sum().reset_index()\n",
    "df_con\n",
    "plt.plot(df_con['Order Date'], df_con['Sales'])\n",
    "plt.xlabel(\"Year\")\n",
    "plt.ylabel(\"Transaction Amount\")"
   ]
  },
  {
   "cell_type": "markdown",
   "id": "7197638f",
   "metadata": {},
   "source": [
    "In general, there seems to be an upward trend in transaction amounts. It maybe due to inflation or increased demand."
   ]
  },
  {
   "cell_type": "markdown",
   "id": "e992901b",
   "metadata": {},
   "source": [
    "# Step 2: Explore the dataset (8 points)"
   ]
  },
  {
   "cell_type": "markdown",
   "id": "ee20503e",
   "metadata": {},
   "source": [
    "### 1. Are there any outliers or values that don’t make sense? You can use statistical tests to check for outliers. Or, you can simply plot the histogram of the Sales and see if there is any value that appears to be abnormal. (Hint, is there any value that appears to be abnormally large or small? Could it be caused by bad entries (e.g. forgetting a decimal separator?). If there are outliers , how would you treat them? (4)"
   ]
  },
  {
   "cell_type": "code",
   "execution_count": 10,
   "id": "19f942b7",
   "metadata": {},
   "outputs": [
    {
     "data": {
      "image/png": "[encoded data removed]",
      "text/plain": [
       "<Figure size 640x480 with 1 Axes>"
      ]
     },
     "metadata": {},
     "output_type": "display_data"
    }
   ],
   "source": [
    "import seaborn as sns\n",
    "sns.set_theme(style=\"whitegrid\")\n",
    "ax = sns.boxplot (x=df['Sales'])"
   ]
  },
  {
   "cell_type": "code",
   "execution_count": 11,
   "id": "e7e12df5",
   "metadata": {},
   "outputs": [
    {
     "data": {
      "text/html": [
       "<div>\n",
       "<style scoped>\n",
       "    .dataframe tbody tr th:only-of-type {\n",
       "        vertical-align: middle;\n",
       "    }\n",
       "\n",
       "    .dataframe tbody tr th {\n",
       "        vertical-align: top;\n",
       "    }\n",
       "\n",
       "    .dataframe thead th {\n",
       "        text-align: right;\n",
       "    }\n",
       "</style>\n",
       "<table border=\"1\" class=\"dataframe\">\n",
       "  <thead>\n",
       "    <tr style=\"text-align: right;\">\n",
       "      <th></th>\n",
       "      <th>Order ID</th>\n",
       "      <th>Order Date</th>\n",
       "      <th>Customer Name</th>\n",
       "      <th>Country</th>\n",
       "      <th>State</th>\n",
       "      <th>City</th>\n",
       "      <th>Region</th>\n",
       "      <th>Segment</th>\n",
       "      <th>Ship Mode</th>\n",
       "      <th>Category</th>\n",
       "      <th>Sub-Category</th>\n",
       "      <th>Product Name</th>\n",
       "      <th>Discount</th>\n",
       "      <th>Sales</th>\n",
       "      <th>Profit</th>\n",
       "      <th>Quantity</th>\n",
       "    </tr>\n",
       "  </thead>\n",
       "  <tbody>\n",
       "    <tr>\n",
       "      <th>28</th>\n",
       "      <td>BN-2011-4913858</td>\n",
       "      <td>2011-01-13</td>\n",
       "      <td>Julian Dobie</td>\n",
       "      <td>Netherlands</td>\n",
       "      <td>South Holland</td>\n",
       "      <td>Dordrecht</td>\n",
       "      <td>Central</td>\n",
       "      <td>Consumer</td>\n",
       "      <td>Economy</td>\n",
       "      <td>Office Supplies</td>\n",
       "      <td>Storage</td>\n",
       "      <td>Smead Lockers, Blue</td>\n",
       "      <td>0.5</td>\n",
       "      <td>198000.0</td>\n",
       "      <td>-131.0</td>\n",
       "      <td>2.0</td>\n",
       "    </tr>\n",
       "    <tr>\n",
       "      <th>5246</th>\n",
       "      <td>AZ-2013-467128</td>\n",
       "      <td>2013-12-04</td>\n",
       "      <td>John Basser</td>\n",
       "      <td>Germany</td>\n",
       "      <td>Hamburg</td>\n",
       "      <td>Hamburg</td>\n",
       "      <td>Central</td>\n",
       "      <td>Corporate</td>\n",
       "      <td>Economy</td>\n",
       "      <td>Office Supplies</td>\n",
       "      <td>Envelopes</td>\n",
       "      <td>Kraft Peel and Seal, Security-Tint</td>\n",
       "      <td>0.0</td>\n",
       "      <td>206000.0</td>\n",
       "      <td>33.0</td>\n",
       "      <td>9.0</td>\n",
       "    </tr>\n",
       "  </tbody>\n",
       "</table>\n",
       "</div>"
      ],
      "text/plain": [
       "             Order ID Order Date Customer Name      Country          State  \\\n",
       "28    BN-2011-4913858 2011-01-13  Julian Dobie  Netherlands  South Holland   \n",
       "5246   AZ-2013-467128 2013-12-04   John Basser      Germany        Hamburg   \n",
       "\n",
       "           City   Region    Segment Ship Mode         Category Sub-Category  \\\n",
       "28    Dordrecht  Central   Consumer   Economy  Office Supplies      Storage   \n",
       "5246    Hamburg  Central  Corporate   Economy  Office Supplies    Envelopes   \n",
       "\n",
       "                            Product Name  Discount     Sales  Profit  Quantity  \n",
       "28                   Smead Lockers, Blue       0.5  198000.0  -131.0       2.0  \n",
       "5246  Kraft Peel and Seal, Security-Tint       0.0  206000.0    33.0       9.0  "
      ]
     },
     "execution_count": 11,
     "metadata": {},
     "output_type": "execute_result"
    }
   ],
   "source": [
    "df[df['Sales']>100000]"
   ]
  },
  {
   "cell_type": "code",
   "execution_count": 12,
   "id": "9923b089",
   "metadata": {},
   "outputs": [
    {
     "data": {
      "text/plain": [
       "count      8045.000000\n",
       "mean        342.542946\n",
       "std        3218.073605\n",
       "min        -110.000000\n",
       "25%          48.000000\n",
       "50%         116.000000\n",
       "75%         313.000000\n",
       "max      206000.000000\n",
       "Name: Sales, dtype: float64"
      ]
     },
     "execution_count": 12,
     "metadata": {},
     "output_type": "execute_result"
    }
   ],
   "source": [
    "df['Sales'].describe()"
   ]
  },
  {
   "cell_type": "code",
   "execution_count": 13,
   "id": "886b8f72",
   "metadata": {},
   "outputs": [
    {
     "data": {
      "text/html": [
       "<div>\n",
       "<style scoped>\n",
       "    .dataframe tbody tr th:only-of-type {\n",
       "        vertical-align: middle;\n",
       "    }\n",
       "\n",
       "    .dataframe tbody tr th {\n",
       "        vertical-align: top;\n",
       "    }\n",
       "\n",
       "    .dataframe thead th {\n",
       "        text-align: right;\n",
       "    }\n",
       "</style>\n",
       "<table border=\"1\" class=\"dataframe\">\n",
       "  <thead>\n",
       "    <tr style=\"text-align: right;\">\n",
       "      <th></th>\n",
       "      <th>Order ID</th>\n",
       "      <th>Order Date</th>\n",
       "      <th>Customer Name</th>\n",
       "      <th>Country</th>\n",
       "      <th>State</th>\n",
       "      <th>City</th>\n",
       "      <th>Region</th>\n",
       "      <th>Segment</th>\n",
       "      <th>Ship Mode</th>\n",
       "      <th>Category</th>\n",
       "      <th>Sub-Category</th>\n",
       "      <th>Product Name</th>\n",
       "      <th>Discount</th>\n",
       "      <th>Sales</th>\n",
       "      <th>Profit</th>\n",
       "      <th>Quantity</th>\n",
       "    </tr>\n",
       "  </thead>\n",
       "  <tbody>\n",
       "    <tr>\n",
       "      <th>180</th>\n",
       "      <td>BN-2011-1399750</td>\n",
       "      <td>2011-03-15</td>\n",
       "      <td>Wanda Wingert</td>\n",
       "      <td>United Kingdom</td>\n",
       "      <td>England</td>\n",
       "      <td>London</td>\n",
       "      <td>North</td>\n",
       "      <td>Consumer</td>\n",
       "      <td>Immediate</td>\n",
       "      <td>Office Supplies</td>\n",
       "      <td>Art</td>\n",
       "      <td>Binney &amp; Smith Pens, Blue</td>\n",
       "      <td>0.1</td>\n",
       "      <td>-110.0</td>\n",
       "      <td>4.0</td>\n",
       "      <td>1.0</td>\n",
       "    </tr>\n",
       "    <tr>\n",
       "      <th>381</th>\n",
       "      <td>AZ-2011-309750</td>\n",
       "      <td>2011-05-19</td>\n",
       "      <td>Milla Hollinworth</td>\n",
       "      <td>Spain</td>\n",
       "      <td>Castile-La Mancha</td>\n",
       "      <td>Toledo</td>\n",
       "      <td>South</td>\n",
       "      <td>Corporate</td>\n",
       "      <td>Economy</td>\n",
       "      <td>Office Supplies</td>\n",
       "      <td>Paper</td>\n",
       "      <td>Xerox Memo Slips, Multicolor</td>\n",
       "      <td>0.0</td>\n",
       "      <td>0.0</td>\n",
       "      <td>0.0</td>\n",
       "      <td>1.0</td>\n",
       "    </tr>\n",
       "    <tr>\n",
       "      <th>7327</th>\n",
       "      <td>AZ-2014-6494772</td>\n",
       "      <td>2014-10-16</td>\n",
       "      <td>Kian Sykes</td>\n",
       "      <td>France</td>\n",
       "      <td>Provence-Alpes-Côte d'Azur</td>\n",
       "      <td>Carpentras</td>\n",
       "      <td>Central</td>\n",
       "      <td>Consumer</td>\n",
       "      <td>Priority</td>\n",
       "      <td>Office Supplies</td>\n",
       "      <td>Art</td>\n",
       "      <td>Stanley Markers, Fluorescent</td>\n",
       "      <td>0.0</td>\n",
       "      <td>-70.0</td>\n",
       "      <td>24.0</td>\n",
       "      <td>3.0</td>\n",
       "    </tr>\n",
       "    <tr>\n",
       "      <th>7328</th>\n",
       "      <td>AZ-2014-6494772</td>\n",
       "      <td>2014-10-16</td>\n",
       "      <td>Kian Sykes</td>\n",
       "      <td>France</td>\n",
       "      <td>Provence-Alpes-Côte d'Azur</td>\n",
       "      <td>Carpentras</td>\n",
       "      <td>Central</td>\n",
       "      <td>Consumer</td>\n",
       "      <td>Priority</td>\n",
       "      <td>Office Supplies</td>\n",
       "      <td>Binders</td>\n",
       "      <td>Cardinal Index Tab, Clear</td>\n",
       "      <td>0.0</td>\n",
       "      <td>-47.0</td>\n",
       "      <td>20.0</td>\n",
       "      <td>7.0</td>\n",
       "    </tr>\n",
       "  </tbody>\n",
       "</table>\n",
       "</div>"
      ],
      "text/plain": [
       "             Order ID Order Date      Customer Name         Country  \\\n",
       "180   BN-2011-1399750 2011-03-15      Wanda Wingert  United Kingdom   \n",
       "381    AZ-2011-309750 2011-05-19  Milla Hollinworth           Spain   \n",
       "7327  AZ-2014-6494772 2014-10-16         Kian Sykes          France   \n",
       "7328  AZ-2014-6494772 2014-10-16         Kian Sykes          France   \n",
       "\n",
       "                           State        City   Region    Segment  Ship Mode  \\\n",
       "180                      England      London    North   Consumer  Immediate   \n",
       "381            Castile-La Mancha      Toledo    South  Corporate    Economy   \n",
       "7327  Provence-Alpes-Côte d'Azur  Carpentras  Central   Consumer   Priority   \n",
       "7328  Provence-Alpes-Côte d'Azur  Carpentras  Central   Consumer   Priority   \n",
       "\n",
       "             Category Sub-Category                  Product Name  Discount  \\\n",
       "180   Office Supplies          Art     Binney & Smith Pens, Blue       0.1   \n",
       "381   Office Supplies        Paper  Xerox Memo Slips, Multicolor       0.0   \n",
       "7327  Office Supplies          Art  Stanley Markers, Fluorescent       0.0   \n",
       "7328  Office Supplies      Binders     Cardinal Index Tab, Clear       0.0   \n",
       "\n",
       "      Sales  Profit  Quantity  \n",
       "180  -110.0     4.0       1.0  \n",
       "381     0.0     0.0       1.0  \n",
       "7327  -70.0    24.0       3.0  \n",
       "7328  -47.0    20.0       7.0  "
      ]
     },
     "execution_count": 13,
     "metadata": {},
     "output_type": "execute_result"
    }
   ],
   "source": [
    "df[df['Sales']<=0]"
   ]
  },
  {
   "cell_type": "markdown",
   "id": "09406c24",
   "metadata": {},
   "source": [
    "From the boxplot, we can see that there are two outliers have extremely huge amount.\n",
    "\n",
    "Additionally, there are orders with negative sales, which is not reasonable, so they are outliers as well.\n",
    "\n",
    "If there are outliers, I will remove them before conducting further analysis. This is because outliers, particularly those with negative and zero amount or extremely high values, are likely to be abnormal and nonsensical, potentially skewing the results.\n",
    "\n",
    "I eyeball the boxplot and find two huge data points, so i set the upper bound as 100,000 to exclude these two."
   ]
  },
  {
   "cell_type": "code",
   "execution_count": 14,
   "id": "11c2e885",
   "metadata": {},
   "outputs": [],
   "source": [
    "# Remove Rows with Missing Values\n",
    "df_processed = df.dropna()\n",
    "# Filter Based on Sales Values\n",
    "df_processed=df_processed[(df_processed['Sales'] <= 100000) & (df_processed['Sales'] >= 0)]"
   ]
  },
  {
   "cell_type": "code",
   "execution_count": 15,
   "id": "249a5980",
   "metadata": {},
   "outputs": [
    {
     "data": {
      "text/html": [
       "<div>\n",
       "<style scoped>\n",
       "    .dataframe tbody tr th:only-of-type {\n",
       "        vertical-align: middle;\n",
       "    }\n",
       "\n",
       "    .dataframe tbody tr th {\n",
       "        vertical-align: top;\n",
       "    }\n",
       "\n",
       "    .dataframe thead th {\n",
       "        text-align: right;\n",
       "    }\n",
       "</style>\n",
       "<table border=\"1\" class=\"dataframe\">\n",
       "  <thead>\n",
       "    <tr style=\"text-align: right;\">\n",
       "      <th></th>\n",
       "      <th>Order Date</th>\n",
       "      <th>Discount</th>\n",
       "      <th>Sales</th>\n",
       "      <th>Profit</th>\n",
       "      <th>Quantity</th>\n",
       "    </tr>\n",
       "  </thead>\n",
       "  <tbody>\n",
       "    <tr>\n",
       "      <th>count</th>\n",
       "      <td>8008</td>\n",
       "      <td>8008.000000</td>\n",
       "      <td>8008.000000</td>\n",
       "      <td>8008.000000</td>\n",
       "      <td>8008.000000</td>\n",
       "    </tr>\n",
       "    <tr>\n",
       "      <th>mean</th>\n",
       "      <td>2013-04-22 03:10:47.352647424</td>\n",
       "      <td>0.112238</td>\n",
       "      <td>292.624126</td>\n",
       "      <td>35.037962</td>\n",
       "      <td>3.769481</td>\n",
       "    </tr>\n",
       "    <tr>\n",
       "      <th>min</th>\n",
       "      <td>2011-01-01 00:00:00</td>\n",
       "      <td>0.000000</td>\n",
       "      <td>0.000000</td>\n",
       "      <td>-3060.000000</td>\n",
       "      <td>1.000000</td>\n",
       "    </tr>\n",
       "    <tr>\n",
       "      <th>25%</th>\n",
       "      <td>2012-06-13 18:00:00</td>\n",
       "      <td>0.000000</td>\n",
       "      <td>49.000000</td>\n",
       "      <td>1.000000</td>\n",
       "      <td>2.000000</td>\n",
       "    </tr>\n",
       "    <tr>\n",
       "      <th>50%</th>\n",
       "      <td>2013-06-13 00:00:00</td>\n",
       "      <td>0.000000</td>\n",
       "      <td>117.000000</td>\n",
       "      <td>14.000000</td>\n",
       "      <td>3.000000</td>\n",
       "    </tr>\n",
       "    <tr>\n",
       "      <th>75%</th>\n",
       "      <td>2014-05-02 00:00:00</td>\n",
       "      <td>0.100000</td>\n",
       "      <td>314.000000</td>\n",
       "      <td>47.000000</td>\n",
       "      <td>5.000000</td>\n",
       "    </tr>\n",
       "    <tr>\n",
       "      <th>max</th>\n",
       "      <td>2014-12-31 00:00:00</td>\n",
       "      <td>0.900000</td>\n",
       "      <td>6517.000000</td>\n",
       "      <td>2476.000000</td>\n",
       "      <td>14.000000</td>\n",
       "    </tr>\n",
       "    <tr>\n",
       "      <th>std</th>\n",
       "      <td>NaN</td>\n",
       "      <td>0.183114</td>\n",
       "      <td>487.111872</td>\n",
       "      <td>177.714033</td>\n",
       "      <td>2.199619</td>\n",
       "    </tr>\n",
       "  </tbody>\n",
       "</table>\n",
       "</div>"
      ],
      "text/plain": [
       "                          Order Date     Discount        Sales       Profit  \\\n",
       "count                           8008  8008.000000  8008.000000  8008.000000   \n",
       "mean   2013-04-22 03:10:47.352647424     0.112238   292.624126    35.037962   \n",
       "min              2011-01-01 00:00:00     0.000000     0.000000 -3060.000000   \n",
       "25%              2012-06-13 18:00:00     0.000000    49.000000     1.000000   \n",
       "50%              2013-06-13 00:00:00     0.000000   117.000000    14.000000   \n",
       "75%              2014-05-02 00:00:00     0.100000   314.000000    47.000000   \n",
       "max              2014-12-31 00:00:00     0.900000  6517.000000  2476.000000   \n",
       "std                              NaN     0.183114   487.111872   177.714033   \n",
       "\n",
       "          Quantity  \n",
       "count  8008.000000  \n",
       "mean      3.769481  \n",
       "min       1.000000  \n",
       "25%       2.000000  \n",
       "50%       3.000000  \n",
       "75%       5.000000  \n",
       "max      14.000000  \n",
       "std       2.199619  "
      ]
     },
     "execution_count": 15,
     "metadata": {},
     "output_type": "execute_result"
    }
   ],
   "source": [
    "df_processed.describe()"
   ]
  },
  {
   "cell_type": "code",
   "execution_count": 16,
   "id": "b6737874",
   "metadata": {},
   "outputs": [
    {
     "data": {
      "image/png": "[encoded data removed]",
      "text/plain": [
       "<Figure size 640x480 with 1 Axes>"
      ]
     },
     "metadata": {},
     "output_type": "display_data"
    }
   ],
   "source": [
    "plt.hist(df_processed['Sales'], bins='auto', edgecolor='black')  \n",
    "plt.title('Histogram of Sales')\n",
    "plt.xlabel('Sales')\n",
    "plt.ylabel('Frequency')\n",
    "plt.show()"
   ]
  },
  {
   "cell_type": "markdown",
   "id": "753e58a3",
   "metadata": {},
   "source": [
    "Now, the distribution seems normal as most data points are within a limited range, and it can be used for analysis."
   ]
  },
  {
   "cell_type": "markdown",
   "id": "726b20aa",
   "metadata": {},
   "source": [
    "### 2. Does giving discounts increase sales and/or profits? Make a graph to show that. Comment on what happens at 80% discount level, and what’s the optimum level for maximizing total profit. (2)"
   ]
  },
  {
   "cell_type": "code",
   "execution_count": 17,
   "id": "d69f3330",
   "metadata": {},
   "outputs": [],
   "source": [
    "df_processed['Discount']=df_processed['Discount']*100\n",
    "\n",
    "grouped_data = df_processed.groupby('Discount').agg({'Sales': 'mean', 'Profit': 'mean'}).reset_index()"
   ]
  },
  {
   "cell_type": "code",
   "execution_count": 18,
   "id": "1601ac41",
   "metadata": {},
   "outputs": [
    {
     "data": {
      "text/html": [
       "<div>\n",
       "<style scoped>\n",
       "    .dataframe tbody tr th:only-of-type {\n",
       "        vertical-align: middle;\n",
       "    }\n",
       "\n",
       "    .dataframe tbody tr th {\n",
       "        vertical-align: top;\n",
       "    }\n",
       "\n",
       "    .dataframe thead th {\n",
       "        text-align: right;\n",
       "    }\n",
       "</style>\n",
       "<table border=\"1\" class=\"dataframe\">\n",
       "  <thead>\n",
       "    <tr style=\"text-align: right;\">\n",
       "      <th></th>\n",
       "      <th>Discount</th>\n",
       "      <th>Sales</th>\n",
       "      <th>Profit</th>\n",
       "    </tr>\n",
       "  </thead>\n",
       "  <tbody>\n",
       "    <tr>\n",
       "      <th>8</th>\n",
       "      <td>80.0</td>\n",
       "      <td>46.333333</td>\n",
       "      <td>-142.0</td>\n",
       "    </tr>\n",
       "  </tbody>\n",
       "</table>\n",
       "</div>"
      ],
      "text/plain": [
       "   Discount      Sales  Profit\n",
       "8      80.0  46.333333  -142.0"
      ]
     },
     "execution_count": 18,
     "metadata": {},
     "output_type": "execute_result"
    }
   ],
   "source": [
    "grouped_data[grouped_data['Discount']==80]"
   ]
  },
  {
   "cell_type": "markdown",
   "id": "70a1779f",
   "metadata": {},
   "source": [
    "At 80% discount level, the company has severe loss."
   ]
  },
  {
   "cell_type": "code",
   "execution_count": 19,
   "id": "0ed2af99",
   "metadata": {},
   "outputs": [
    {
     "data": {
      "text/html": [
       "<div>\n",
       "<style scoped>\n",
       "    .dataframe tbody tr th:only-of-type {\n",
       "        vertical-align: middle;\n",
       "    }\n",
       "\n",
       "    .dataframe tbody tr th {\n",
       "        vertical-align: top;\n",
       "    }\n",
       "\n",
       "    .dataframe thead th {\n",
       "        text-align: right;\n",
       "    }\n",
       "</style>\n",
       "<table border=\"1\" class=\"dataframe\">\n",
       "  <thead>\n",
       "    <tr style=\"text-align: right;\">\n",
       "      <th></th>\n",
       "      <th>Discount</th>\n",
       "      <th>Sales</th>\n",
       "      <th>Profit</th>\n",
       "    </tr>\n",
       "  </thead>\n",
       "  <tbody>\n",
       "    <tr>\n",
       "      <th>0</th>\n",
       "      <td>0.0</td>\n",
       "      <td>251.918919</td>\n",
       "      <td>63.940008</td>\n",
       "    </tr>\n",
       "    <tr>\n",
       "      <th>1</th>\n",
       "      <td>10.0</td>\n",
       "      <td>440.369748</td>\n",
       "      <td>72.829641</td>\n",
       "    </tr>\n",
       "    <tr>\n",
       "      <th>2</th>\n",
       "      <td>20.0</td>\n",
       "      <td>564.397468</td>\n",
       "      <td>41.718987</td>\n",
       "    </tr>\n",
       "    <tr>\n",
       "      <th>3</th>\n",
       "      <td>30.0</td>\n",
       "      <td>124.256410</td>\n",
       "      <td>-15.692308</td>\n",
       "    </tr>\n",
       "    <tr>\n",
       "      <th>4</th>\n",
       "      <td>40.0</td>\n",
       "      <td>393.546099</td>\n",
       "      <td>-97.865248</td>\n",
       "    </tr>\n",
       "    <tr>\n",
       "      <th>5</th>\n",
       "      <td>50.0</td>\n",
       "      <td>171.701736</td>\n",
       "      <td>-89.116445</td>\n",
       "    </tr>\n",
       "    <tr>\n",
       "      <th>6</th>\n",
       "      <td>60.0</td>\n",
       "      <td>206.760417</td>\n",
       "      <td>-155.718750</td>\n",
       "    </tr>\n",
       "    <tr>\n",
       "      <th>7</th>\n",
       "      <td>70.0</td>\n",
       "      <td>455.800000</td>\n",
       "      <td>-537.850000</td>\n",
       "    </tr>\n",
       "    <tr>\n",
       "      <th>8</th>\n",
       "      <td>80.0</td>\n",
       "      <td>46.333333</td>\n",
       "      <td>-142.000000</td>\n",
       "    </tr>\n",
       "    <tr>\n",
       "      <th>9</th>\n",
       "      <td>90.0</td>\n",
       "      <td>555.000000</td>\n",
       "      <td>-1925.000000</td>\n",
       "    </tr>\n",
       "  </tbody>\n",
       "</table>\n",
       "</div>"
      ],
      "text/plain": [
       "   Discount       Sales       Profit\n",
       "0       0.0  251.918919    63.940008\n",
       "1      10.0  440.369748    72.829641\n",
       "2      20.0  564.397468    41.718987\n",
       "3      30.0  124.256410   -15.692308\n",
       "4      40.0  393.546099   -97.865248\n",
       "5      50.0  171.701736   -89.116445\n",
       "6      60.0  206.760417  -155.718750\n",
       "7      70.0  455.800000  -537.850000\n",
       "8      80.0   46.333333  -142.000000\n",
       "9      90.0  555.000000 -1925.000000"
      ]
     },
     "execution_count": 19,
     "metadata": {},
     "output_type": "execute_result"
    }
   ],
   "source": [
    "grouped_data"
   ]
  },
  {
   "cell_type": "code",
   "execution_count": 20,
   "id": "ed22596e",
   "metadata": {},
   "outputs": [
    {
     "data": {
      "image/png": "[encoded data removed]",
      "text/plain": [
       "<Figure size 640x480 with 1 Axes>"
      ]
     },
     "metadata": {},
     "output_type": "display_data"
    }
   ],
   "source": [
    "fig= figsize=(10, 6)\n",
    "\n",
    "plt.plot(grouped_data['Discount'], grouped_data['Sales'], color='red', label='Sales')\n",
    "plt.plot(grouped_data['Discount'], grouped_data['Profit'], color='green', label='Profit')\n",
    "\n",
    "plt.legend()\n",
    "plt.xlabel('Discount (%)')\n",
    "plt.ylabel('Amount(Million)')\n",
    "plt.title('Sales and Profit at Different Discount Levels')\n",
    "\n",
    "\n",
    "plt.show()"
   ]
  },
  {
   "cell_type": "markdown",
   "id": "75883b64",
   "metadata": {},
   "source": [
    "The profit seems to be highest at lower discount levels, specifically around 10%. After this point, as the discount increases, the profit decreases and even becomes negative, implying losses. The optimum level for maximizing total profit appears to be around the 10% discount mark. Overall, if the discount is not over 30%, the company can still earn so the discount less than 30% is acceptable."
   ]
  },
  {
   "cell_type": "markdown",
   "id": "99c6fbbb",
   "metadata": {},
   "source": [
    "### 3. What factors affect the sales the most? You can run a simple regression to understand the impact. (2)"
   ]
  },
  {
   "cell_type": "markdown",
   "id": "49b60cfb",
   "metadata": {},
   "source": [
    "The Order ID and customer name are distinct for the dataset, so they are primary keys. Therefore these two are not included in regression formula."
   ]
  },
  {
   "cell_type": "code",
   "execution_count": 36,
   "id": "ec2a4443",
   "metadata": {},
   "outputs": [
    {
     "name": "stdout",
     "output_type": "stream",
     "text": [
      "Top 5 variables with the largest coefficients:\n",
      "Product Name_Motorola Smart Phone, Cordless             2720.310743\n",
      "Product Name_Nokia Smart Phone, Cordless                2085.832321\n",
      "Product Name_Samsung Smart Phone, VoIP                  2042.312684\n",
      "Product Name_KitchenAid Refrigerator, Black             2040.582549\n",
      "Product Name_SAFCO Executive Leather Armchair, Black    1989.369172\n",
      "dtype: float64\n",
      "\n",
      "Top 5 variables with the smallest coefficients:\n",
      "City_Treviglio                           -2125.119489\n",
      "City_Hardenberg                          -1185.942627\n",
      "Product Name_HP Personal Copier, Color   -1114.646357\n",
      "City_Villeneuve-Saint-Georges             -965.336754\n",
      "City_Saint-Dizier                         -959.655485\n",
      "dtype: float64\n"
     ]
    }
   ],
   "source": [
    "import statsmodels.api as sm\n",
    "import numpy as np\n",
    "from patsy import dmatrices\n",
    "\n",
    "# Convert Order Date to datetime and extract year and month\n",
    "df_processed['Order Date'] = pd.to_datetime(df_processed['Order Date'])\n",
    "df_processed['Year'] = df_processed['Order Date'].dt.year\n",
    "df_processed['Month'] = df_processed['Order Date'].dt.month\n",
    "\n",
    "\n",
    "numeric_cols = ['Discount', 'Quantity', 'Year', 'Month']\n",
    "categorical_cols = ['Country', 'State', 'City', 'Region', 'Segment', 'Ship Mode', 'Category', 'Sub-Category', 'Product Name']\n",
    "\n",
    "# Create dummy variables for categorical data\n",
    "df_dummies = pd.get_dummies(df_processed[categorical_cols])\n",
    "\n",
    "X = pd.concat([df_processed[numeric_cols], df_dummies], axis=1)\n",
    "y = df_processed['Sales']\n",
    "X = sm.add_constant(X)\n",
    "X = X.astype({col: 'int' for col in X.select_dtypes(include=['bool']).columns})\n",
    "\n",
    "# Fit the model\n",
    "model = sm.OLS(y, X).fit()\n",
    "\n",
    "coefficients = model.params\n",
    "top_5_largest = coefficients.sort_values(ascending=False).head(5)\n",
    "top_5_smallest = coefficients.sort_values(ascending=True).head(5)\n",
    "\n",
    "print(\"Top 5 variables with the largest coefficients:\")\n",
    "print(top_5_largest)\n",
    "print(\"\\nTop 5 variables with the smallest coefficients:\")\n",
    "print(top_5_smallest)"
   ]
  },
  {
   "cell_type": "markdown",
   "id": "3c4fabda",
   "metadata": {},
   "source": [
    "Most variables with the larger or smaller coefficients are about Product Name.\n",
    "Factor affect the sales the most is \"Product Name\".\n",
    "This is reasonable that product name equals to product itself and directly effect the sales, which is price multiple by the quantity."
   ]
  },
  {
   "cell_type": "code",
   "execution_count": 33,
   "id": "c743ce10",
   "metadata": {},
   "outputs": [
    {
     "name": "stdout",
     "output_type": "stream",
     "text": [
      "Top 5 variables with the largest coefficients:\n",
      "City_Poitiers           2102.233980\n",
      "City_Plaisir            1910.166154\n",
      "City_Crawley            1404.069962\n",
      "City_Annecy-le-Vieux    1288.036407\n",
      "City_Saint-Louis        1259.746272\n",
      "dtype: float64\n",
      "\n",
      "Top 5 variables with the smallest coefficients:\n",
      "const                      -1160.673096\n",
      "Category_Office Supplies    -680.348759\n",
      "City_Mauguio                -617.428563\n",
      "City_Cuxhaven               -603.611339\n",
      "City_Bron                   -581.422263\n",
      "dtype: float64\n"
     ]
    }
   ],
   "source": [
    "numeric_cols = ['Discount', 'Quantity', 'Year', 'Month']\n",
    "categorical_cols = ['Country', 'State', 'City', 'Region', 'Segment', 'Ship Mode', 'Category', 'Sub-Category']\n",
    "\n",
    "# Create dummy variables for categorical data\n",
    "df_dummies = pd.get_dummies(df_processed[categorical_cols])\n",
    "\n",
    "X = pd.concat([df_processed[numeric_cols], df_dummies], axis=1)  # Excluding 'Sales' from predictors\n",
    "y = df_processed['Sales']\n",
    "X = sm.add_constant(X)\n",
    "X = X.astype({col: 'int' for col in X.select_dtypes(include=['bool']).columns})\n",
    "\n",
    "# Fitting the regression model\n",
    "model = sm.OLS(y, X).fit()\n",
    "\n",
    "coefficients = model.params\n",
    "top_5_largest = coefficients.sort_values(ascending=False).head(5)\n",
    "top_5_smallest = coefficients.sort_values(ascending=True).head(5)\n",
    "\n",
    "print(\"Top 5 variables with the largest coefficients:\")\n",
    "print(top_5_largest)\n",
    "print(\"\\nTop 5 variables with the smallest coefficients:\")\n",
    "print(top_5_smallest)"
   ]
  },
  {
   "cell_type": "markdown",
   "id": "e232eed2",
   "metadata": {},
   "source": [
    "In addition to the product name, I am keen to investigate other variables. Consequently, I have excluded the product name from the linear regression formula. Most variables with the larger or smaller coefficients are about the city. Therefore, the factor that most significantly affects sales appears to be the city aside from the product name."
   ]
  },
  {
   "cell_type": "markdown",
   "id": "10426ff2",
   "metadata": {},
   "source": [
    "# Step 3: Determine origin year of customers (1)"
   ]
  },
  {
   "cell_type": "code",
   "execution_count": 37,
   "id": "8140803e",
   "metadata": {},
   "outputs": [
    {
     "data": {
      "text/html": [
       "<div>\n",
       "<style scoped>\n",
       "    .dataframe tbody tr th:only-of-type {\n",
       "        vertical-align: middle;\n",
       "    }\n",
       "\n",
       "    .dataframe tbody tr th {\n",
       "        vertical-align: top;\n",
       "    }\n",
       "\n",
       "    .dataframe thead th {\n",
       "        text-align: right;\n",
       "    }\n",
       "</style>\n",
       "<table border=\"1\" class=\"dataframe\">\n",
       "  <thead>\n",
       "    <tr style=\"text-align: right;\">\n",
       "      <th></th>\n",
       "      <th>Customer Name</th>\n",
       "      <th>OriginYear</th>\n",
       "    </tr>\n",
       "  </thead>\n",
       "  <tbody>\n",
       "    <tr>\n",
       "      <th>0</th>\n",
       "      <td>Aaron Bootman</td>\n",
       "      <td>2011</td>\n",
       "    </tr>\n",
       "    <tr>\n",
       "      <th>1</th>\n",
       "      <td>Aaron Cunningham</td>\n",
       "      <td>2011</td>\n",
       "    </tr>\n",
       "    <tr>\n",
       "      <th>2</th>\n",
       "      <td>Aaron Davey</td>\n",
       "      <td>2011</td>\n",
       "    </tr>\n",
       "    <tr>\n",
       "      <th>3</th>\n",
       "      <td>Aaron Macrossan</td>\n",
       "      <td>2011</td>\n",
       "    </tr>\n",
       "    <tr>\n",
       "      <th>4</th>\n",
       "      <td>Abbie Perry</td>\n",
       "      <td>2011</td>\n",
       "    </tr>\n",
       "    <tr>\n",
       "      <th>...</th>\n",
       "      <td>...</td>\n",
       "      <td>...</td>\n",
       "    </tr>\n",
       "    <tr>\n",
       "      <th>787</th>\n",
       "      <td>Zara Loton</td>\n",
       "      <td>2013</td>\n",
       "    </tr>\n",
       "    <tr>\n",
       "      <th>788</th>\n",
       "      <td>Zara Money</td>\n",
       "      <td>2011</td>\n",
       "    </tr>\n",
       "    <tr>\n",
       "      <th>789</th>\n",
       "      <td>Zoe Lanigan</td>\n",
       "      <td>2011</td>\n",
       "    </tr>\n",
       "    <tr>\n",
       "      <th>790</th>\n",
       "      <td>Zoe Lowin</td>\n",
       "      <td>2011</td>\n",
       "    </tr>\n",
       "    <tr>\n",
       "      <th>791</th>\n",
       "      <td>Zona Meyer</td>\n",
       "      <td>2012</td>\n",
       "    </tr>\n",
       "  </tbody>\n",
       "</table>\n",
       "<p>792 rows × 2 columns</p>\n",
       "</div>"
      ],
      "text/plain": [
       "        Customer Name  OriginYear\n",
       "0       Aaron Bootman        2011\n",
       "1    Aaron Cunningham        2011\n",
       "2         Aaron Davey        2011\n",
       "3     Aaron Macrossan        2011\n",
       "4         Abbie Perry        2011\n",
       "..                ...         ...\n",
       "787        Zara Loton        2013\n",
       "788        Zara Money        2011\n",
       "789       Zoe Lanigan        2011\n",
       "790         Zoe Lowin        2011\n",
       "791        Zona Meyer        2012\n",
       "\n",
       "[792 rows x 2 columns]"
      ]
     },
     "execution_count": 37,
     "metadata": {},
     "output_type": "execute_result"
    }
   ],
   "source": [
    "dfEarlyOrder = df_processed.groupby('Customer Name')['Year'].min()\n",
    "dfEarlyOrder = dfEarlyOrder.reset_index()\n",
    "dfEarlyOrder.rename(columns = {'Year': 'OriginYear'}, inplace = True)\n",
    "dfEarlyOrder"
   ]
  },
  {
   "cell_type": "code",
   "execution_count": 38,
   "id": "584b4c3a",
   "metadata": {},
   "outputs": [
    {
     "data": {
      "text/html": [
       "<div>\n",
       "<style scoped>\n",
       "    .dataframe tbody tr th:only-of-type {\n",
       "        vertical-align: middle;\n",
       "    }\n",
       "\n",
       "    .dataframe tbody tr th {\n",
       "        vertical-align: top;\n",
       "    }\n",
       "\n",
       "    .dataframe thead th {\n",
       "        text-align: right;\n",
       "    }\n",
       "</style>\n",
       "<table border=\"1\" class=\"dataframe\">\n",
       "  <thead>\n",
       "    <tr style=\"text-align: right;\">\n",
       "      <th></th>\n",
       "      <th>Order ID</th>\n",
       "      <th>Order Date</th>\n",
       "      <th>Customer Name</th>\n",
       "      <th>Country</th>\n",
       "      <th>State</th>\n",
       "      <th>City</th>\n",
       "      <th>Region</th>\n",
       "      <th>Segment</th>\n",
       "      <th>Ship Mode</th>\n",
       "      <th>Category</th>\n",
       "      <th>Sub-Category</th>\n",
       "      <th>Product Name</th>\n",
       "      <th>Discount</th>\n",
       "      <th>Sales</th>\n",
       "      <th>Profit</th>\n",
       "      <th>Quantity</th>\n",
       "      <th>Year</th>\n",
       "      <th>Month</th>\n",
       "      <th>OriginYear</th>\n",
       "    </tr>\n",
       "  </thead>\n",
       "  <tbody>\n",
       "    <tr>\n",
       "      <th>0</th>\n",
       "      <td>BN-2011-7407039</td>\n",
       "      <td>2011-01-01</td>\n",
       "      <td>Ruby Patel</td>\n",
       "      <td>Sweden</td>\n",
       "      <td>Stockholm</td>\n",
       "      <td>Stockholm</td>\n",
       "      <td>North</td>\n",
       "      <td>Home Office</td>\n",
       "      <td>Economy Plus</td>\n",
       "      <td>Office Supplies</td>\n",
       "      <td>Paper</td>\n",
       "      <td>Enermax Note Cards, Premium</td>\n",
       "      <td>50.0</td>\n",
       "      <td>45.0</td>\n",
       "      <td>-26.0</td>\n",
       "      <td>3.0</td>\n",
       "      <td>2011</td>\n",
       "      <td>1</td>\n",
       "      <td>2011</td>\n",
       "    </tr>\n",
       "    <tr>\n",
       "      <th>1</th>\n",
       "      <td>AZ-2011-9050313</td>\n",
       "      <td>2011-01-03</td>\n",
       "      <td>Summer Hayward</td>\n",
       "      <td>United Kingdom</td>\n",
       "      <td>England</td>\n",
       "      <td>Southport</td>\n",
       "      <td>North</td>\n",
       "      <td>Consumer</td>\n",
       "      <td>Economy</td>\n",
       "      <td>Furniture</td>\n",
       "      <td>Bookcases</td>\n",
       "      <td>Dania Corner Shelving, Traditional</td>\n",
       "      <td>0.0</td>\n",
       "      <td>854.0</td>\n",
       "      <td>290.0</td>\n",
       "      <td>7.0</td>\n",
       "      <td>2011</td>\n",
       "      <td>1</td>\n",
       "      <td>2011</td>\n",
       "    </tr>\n",
       "    <tr>\n",
       "      <th>2</th>\n",
       "      <td>AZ-2011-6674300</td>\n",
       "      <td>2011-01-04</td>\n",
       "      <td>Devin Huddleston</td>\n",
       "      <td>France</td>\n",
       "      <td>Auvergne-Rhône-Alpes</td>\n",
       "      <td>Valence</td>\n",
       "      <td>Central</td>\n",
       "      <td>Consumer</td>\n",
       "      <td>Economy</td>\n",
       "      <td>Office Supplies</td>\n",
       "      <td>Art</td>\n",
       "      <td>Binney &amp; Smith Sketch Pad, Easy-Erase</td>\n",
       "      <td>0.0</td>\n",
       "      <td>140.0</td>\n",
       "      <td>21.0</td>\n",
       "      <td>3.0</td>\n",
       "      <td>2011</td>\n",
       "      <td>1</td>\n",
       "      <td>2011</td>\n",
       "    </tr>\n",
       "    <tr>\n",
       "      <th>3</th>\n",
       "      <td>BN-2011-2819714</td>\n",
       "      <td>2011-01-04</td>\n",
       "      <td>Mary Parker</td>\n",
       "      <td>United Kingdom</td>\n",
       "      <td>England</td>\n",
       "      <td>Birmingham</td>\n",
       "      <td>North</td>\n",
       "      <td>Corporate</td>\n",
       "      <td>Economy</td>\n",
       "      <td>Office Supplies</td>\n",
       "      <td>Art</td>\n",
       "      <td>Boston Markers, Easy-Erase</td>\n",
       "      <td>50.0</td>\n",
       "      <td>27.0</td>\n",
       "      <td>-22.0</td>\n",
       "      <td>2.0</td>\n",
       "      <td>2011</td>\n",
       "      <td>1</td>\n",
       "      <td>2011</td>\n",
       "    </tr>\n",
       "    <tr>\n",
       "      <th>4</th>\n",
       "      <td>BN-2011-2819714</td>\n",
       "      <td>2011-01-04</td>\n",
       "      <td>Mary Parker</td>\n",
       "      <td>United Kingdom</td>\n",
       "      <td>England</td>\n",
       "      <td>Birmingham</td>\n",
       "      <td>North</td>\n",
       "      <td>Corporate</td>\n",
       "      <td>Economy</td>\n",
       "      <td>Office Supplies</td>\n",
       "      <td>Storage</td>\n",
       "      <td>Eldon Folders, Single Width</td>\n",
       "      <td>50.0</td>\n",
       "      <td>17.0</td>\n",
       "      <td>-1.0</td>\n",
       "      <td>2.0</td>\n",
       "      <td>2011</td>\n",
       "      <td>1</td>\n",
       "      <td>2011</td>\n",
       "    </tr>\n",
       "  </tbody>\n",
       "</table>\n",
       "</div>"
      ],
      "text/plain": [
       "          Order ID Order Date     Customer Name         Country  \\\n",
       "0  BN-2011-7407039 2011-01-01        Ruby Patel          Sweden   \n",
       "1  AZ-2011-9050313 2011-01-03    Summer Hayward  United Kingdom   \n",
       "2  AZ-2011-6674300 2011-01-04  Devin Huddleston          France   \n",
       "3  BN-2011-2819714 2011-01-04       Mary Parker  United Kingdom   \n",
       "4  BN-2011-2819714 2011-01-04       Mary Parker  United Kingdom   \n",
       "\n",
       "                  State        City   Region      Segment     Ship Mode  \\\n",
       "0             Stockholm   Stockholm    North  Home Office  Economy Plus   \n",
       "1               England   Southport    North     Consumer       Economy   \n",
       "2  Auvergne-Rhône-Alpes     Valence  Central     Consumer       Economy   \n",
       "3               England  Birmingham    North    Corporate       Economy   \n",
       "4               England  Birmingham    North    Corporate       Economy   \n",
       "\n",
       "          Category Sub-Category                           Product Name  \\\n",
       "0  Office Supplies        Paper            Enermax Note Cards, Premium   \n",
       "1        Furniture    Bookcases     Dania Corner Shelving, Traditional   \n",
       "2  Office Supplies          Art  Binney & Smith Sketch Pad, Easy-Erase   \n",
       "3  Office Supplies          Art             Boston Markers, Easy-Erase   \n",
       "4  Office Supplies      Storage            Eldon Folders, Single Width   \n",
       "\n",
       "   Discount  Sales  Profit  Quantity  Year  Month  OriginYear  \n",
       "0      50.0   45.0   -26.0       3.0  2011      1        2011  \n",
       "1       0.0  854.0   290.0       7.0  2011      1        2011  \n",
       "2       0.0  140.0    21.0       3.0  2011      1        2011  \n",
       "3      50.0   27.0   -22.0       2.0  2011      1        2011  \n",
       "4      50.0   17.0    -1.0       2.0  2011      1        2011  "
      ]
     },
     "execution_count": 38,
     "metadata": {},
     "output_type": "execute_result"
    }
   ],
   "source": [
    "df_final = pd.merge(df_processed, dfEarlyOrder, on = 'Customer Name', how = 'left')\n",
    "df_final.head()"
   ]
  },
  {
   "cell_type": "markdown",
   "id": "37404fcb",
   "metadata": {},
   "source": [
    "# Step 4: Calculate cumulative transaction amounts (2)"
   ]
  },
  {
   "cell_type": "code",
   "execution_count": 39,
   "id": "fcad7115",
   "metadata": {},
   "outputs": [
    {
     "data": {
      "text/html": [
       "<div>\n",
       "<style scoped>\n",
       "    .dataframe tbody tr th:only-of-type {\n",
       "        vertical-align: middle;\n",
       "    }\n",
       "\n",
       "    .dataframe tbody tr th {\n",
       "        vertical-align: top;\n",
       "    }\n",
       "\n",
       "    .dataframe thead th {\n",
       "        text-align: right;\n",
       "    }\n",
       "</style>\n",
       "<table border=\"1\" class=\"dataframe\">\n",
       "  <thead>\n",
       "    <tr style=\"text-align: right;\">\n",
       "      <th></th>\n",
       "      <th>Order ID</th>\n",
       "      <th>Order Date</th>\n",
       "      <th>Customer Name</th>\n",
       "      <th>Country</th>\n",
       "      <th>State</th>\n",
       "      <th>City</th>\n",
       "      <th>Region</th>\n",
       "      <th>Segment</th>\n",
       "      <th>Ship Mode</th>\n",
       "      <th>Category</th>\n",
       "      <th>Sub-Category</th>\n",
       "      <th>Product Name</th>\n",
       "      <th>Discount</th>\n",
       "      <th>Sales</th>\n",
       "      <th>Profit</th>\n",
       "      <th>Quantity</th>\n",
       "      <th>Year</th>\n",
       "      <th>Month</th>\n",
       "      <th>OriginYear</th>\n",
       "      <th>Age</th>\n",
       "    </tr>\n",
       "  </thead>\n",
       "  <tbody>\n",
       "    <tr>\n",
       "      <th>0</th>\n",
       "      <td>BN-2011-7407039</td>\n",
       "      <td>2011-01-01</td>\n",
       "      <td>Ruby Patel</td>\n",
       "      <td>Sweden</td>\n",
       "      <td>Stockholm</td>\n",
       "      <td>Stockholm</td>\n",
       "      <td>North</td>\n",
       "      <td>Home Office</td>\n",
       "      <td>Economy Plus</td>\n",
       "      <td>Office Supplies</td>\n",
       "      <td>Paper</td>\n",
       "      <td>Enermax Note Cards, Premium</td>\n",
       "      <td>50.0</td>\n",
       "      <td>45.0</td>\n",
       "      <td>-26.0</td>\n",
       "      <td>3.0</td>\n",
       "      <td>2011</td>\n",
       "      <td>1</td>\n",
       "      <td>2011</td>\n",
       "      <td>0.000000</td>\n",
       "    </tr>\n",
       "    <tr>\n",
       "      <th>1</th>\n",
       "      <td>AZ-2011-9050313</td>\n",
       "      <td>2011-01-03</td>\n",
       "      <td>Summer Hayward</td>\n",
       "      <td>United Kingdom</td>\n",
       "      <td>England</td>\n",
       "      <td>Southport</td>\n",
       "      <td>North</td>\n",
       "      <td>Consumer</td>\n",
       "      <td>Economy</td>\n",
       "      <td>Furniture</td>\n",
       "      <td>Bookcases</td>\n",
       "      <td>Dania Corner Shelving, Traditional</td>\n",
       "      <td>0.0</td>\n",
       "      <td>854.0</td>\n",
       "      <td>290.0</td>\n",
       "      <td>7.0</td>\n",
       "      <td>2011</td>\n",
       "      <td>1</td>\n",
       "      <td>2011</td>\n",
       "      <td>0.064516</td>\n",
       "    </tr>\n",
       "    <tr>\n",
       "      <th>2</th>\n",
       "      <td>AZ-2011-6674300</td>\n",
       "      <td>2011-01-04</td>\n",
       "      <td>Devin Huddleston</td>\n",
       "      <td>France</td>\n",
       "      <td>Auvergne-Rhône-Alpes</td>\n",
       "      <td>Valence</td>\n",
       "      <td>Central</td>\n",
       "      <td>Consumer</td>\n",
       "      <td>Economy</td>\n",
       "      <td>Office Supplies</td>\n",
       "      <td>Art</td>\n",
       "      <td>Binney &amp; Smith Sketch Pad, Easy-Erase</td>\n",
       "      <td>0.0</td>\n",
       "      <td>140.0</td>\n",
       "      <td>21.0</td>\n",
       "      <td>3.0</td>\n",
       "      <td>2011</td>\n",
       "      <td>1</td>\n",
       "      <td>2011</td>\n",
       "      <td>0.096774</td>\n",
       "    </tr>\n",
       "    <tr>\n",
       "      <th>3</th>\n",
       "      <td>BN-2011-2819714</td>\n",
       "      <td>2011-01-04</td>\n",
       "      <td>Mary Parker</td>\n",
       "      <td>United Kingdom</td>\n",
       "      <td>England</td>\n",
       "      <td>Birmingham</td>\n",
       "      <td>North</td>\n",
       "      <td>Corporate</td>\n",
       "      <td>Economy</td>\n",
       "      <td>Office Supplies</td>\n",
       "      <td>Art</td>\n",
       "      <td>Boston Markers, Easy-Erase</td>\n",
       "      <td>50.0</td>\n",
       "      <td>27.0</td>\n",
       "      <td>-22.0</td>\n",
       "      <td>2.0</td>\n",
       "      <td>2011</td>\n",
       "      <td>1</td>\n",
       "      <td>2011</td>\n",
       "      <td>0.096774</td>\n",
       "    </tr>\n",
       "    <tr>\n",
       "      <th>4</th>\n",
       "      <td>BN-2011-2819714</td>\n",
       "      <td>2011-01-04</td>\n",
       "      <td>Mary Parker</td>\n",
       "      <td>United Kingdom</td>\n",
       "      <td>England</td>\n",
       "      <td>Birmingham</td>\n",
       "      <td>North</td>\n",
       "      <td>Corporate</td>\n",
       "      <td>Economy</td>\n",
       "      <td>Office Supplies</td>\n",
       "      <td>Storage</td>\n",
       "      <td>Eldon Folders, Single Width</td>\n",
       "      <td>50.0</td>\n",
       "      <td>17.0</td>\n",
       "      <td>-1.0</td>\n",
       "      <td>2.0</td>\n",
       "      <td>2011</td>\n",
       "      <td>1</td>\n",
       "      <td>2011</td>\n",
       "      <td>0.096774</td>\n",
       "    </tr>\n",
       "  </tbody>\n",
       "</table>\n",
       "</div>"
      ],
      "text/plain": [
       "          Order ID Order Date     Customer Name         Country  \\\n",
       "0  BN-2011-7407039 2011-01-01        Ruby Patel          Sweden   \n",
       "1  AZ-2011-9050313 2011-01-03    Summer Hayward  United Kingdom   \n",
       "2  AZ-2011-6674300 2011-01-04  Devin Huddleston          France   \n",
       "3  BN-2011-2819714 2011-01-04       Mary Parker  United Kingdom   \n",
       "4  BN-2011-2819714 2011-01-04       Mary Parker  United Kingdom   \n",
       "\n",
       "                  State        City   Region      Segment     Ship Mode  \\\n",
       "0             Stockholm   Stockholm    North  Home Office  Economy Plus   \n",
       "1               England   Southport    North     Consumer       Economy   \n",
       "2  Auvergne-Rhône-Alpes     Valence  Central     Consumer       Economy   \n",
       "3               England  Birmingham    North    Corporate       Economy   \n",
       "4               England  Birmingham    North    Corporate       Economy   \n",
       "\n",
       "          Category Sub-Category                           Product Name  \\\n",
       "0  Office Supplies        Paper            Enermax Note Cards, Premium   \n",
       "1        Furniture    Bookcases     Dania Corner Shelving, Traditional   \n",
       "2  Office Supplies          Art  Binney & Smith Sketch Pad, Easy-Erase   \n",
       "3  Office Supplies          Art             Boston Markers, Easy-Erase   \n",
       "4  Office Supplies      Storage            Eldon Folders, Single Width   \n",
       "\n",
       "   Discount  Sales  Profit  Quantity  Year  Month  OriginYear       Age  \n",
       "0      50.0   45.0   -26.0       3.0  2011      1        2011  0.000000  \n",
       "1       0.0  854.0   290.0       7.0  2011      1        2011  0.064516  \n",
       "2       0.0  140.0    21.0       3.0  2011      1        2011  0.096774  \n",
       "3      50.0   27.0   -22.0       2.0  2011      1        2011  0.096774  \n",
       "4      50.0   17.0    -1.0       2.0  2011      1        2011  0.096774  "
      ]
     },
     "execution_count": 39,
     "metadata": {},
     "output_type": "execute_result"
    }
   ],
   "source": [
    "df_final['Age'] = (df_final['Order Date'] - pd.to_datetime(df_final['OriginYear'], format='%Y')).dt.days / 31\n",
    "df_final.head()"
   ]
  },
  {
   "cell_type": "code",
   "execution_count": 40,
   "id": "725c9bf5",
   "metadata": {},
   "outputs": [],
   "source": [
    "def ageRangeFunc(d):\n",
    "    if (d['Age'] <= 12):\n",
    "        return 12\n",
    "    elif (d['Age'] > 12 and d['Age']<= 24):\n",
    "        return 24\n",
    "    elif (d['Age'] > 24 and d['Age']<= 36):\n",
    "        return 36\n",
    "    elif (d['Age'] > 36 and d['Age']<= 48):\n",
    "        return 48\n",
    "    elif (d['Age'] > 48 and d['Age']<= 60):\n",
    "        return 60\n",
    "    else:\n",
    "        return 72"
   ]
  },
  {
   "cell_type": "code",
   "execution_count": 41,
   "id": "6d9200c1",
   "metadata": {},
   "outputs": [
    {
     "data": {
      "text/html": [
       "<div>\n",
       "<style scoped>\n",
       "    .dataframe tbody tr th:only-of-type {\n",
       "        vertical-align: middle;\n",
       "    }\n",
       "\n",
       "    .dataframe tbody tr th {\n",
       "        vertical-align: top;\n",
       "    }\n",
       "\n",
       "    .dataframe thead th {\n",
       "        text-align: right;\n",
       "    }\n",
       "</style>\n",
       "<table border=\"1\" class=\"dataframe\">\n",
       "  <thead>\n",
       "    <tr style=\"text-align: right;\">\n",
       "      <th>AgeRange</th>\n",
       "      <th>12</th>\n",
       "      <th>24</th>\n",
       "      <th>36</th>\n",
       "      <th>48</th>\n",
       "    </tr>\n",
       "    <tr>\n",
       "      <th>OriginYear</th>\n",
       "      <th></th>\n",
       "      <th></th>\n",
       "      <th></th>\n",
       "      <th></th>\n",
       "    </tr>\n",
       "  </thead>\n",
       "  <tbody>\n",
       "    <tr>\n",
       "      <th>2011</th>\n",
       "      <td>411478.0</td>\n",
       "      <td>757733.0</td>\n",
       "      <td>1142314.0</td>\n",
       "      <td>1591509.0</td>\n",
       "    </tr>\n",
       "    <tr>\n",
       "      <th>2012</th>\n",
       "      <td>218287.0</td>\n",
       "      <td>390858.0</td>\n",
       "      <td>583962.0</td>\n",
       "      <td>NaN</td>\n",
       "    </tr>\n",
       "    <tr>\n",
       "      <th>2013</th>\n",
       "      <td>85388.0</td>\n",
       "      <td>152527.0</td>\n",
       "      <td>NaN</td>\n",
       "      <td>NaN</td>\n",
       "    </tr>\n",
       "    <tr>\n",
       "      <th>2014</th>\n",
       "      <td>15336.0</td>\n",
       "      <td>NaN</td>\n",
       "      <td>NaN</td>\n",
       "      <td>NaN</td>\n",
       "    </tr>\n",
       "  </tbody>\n",
       "</table>\n",
       "</div>"
      ],
      "text/plain": [
       "AgeRange          12        24         36         48\n",
       "OriginYear                                          \n",
       "2011        411478.0  757733.0  1142314.0  1591509.0\n",
       "2012        218287.0  390858.0   583962.0        NaN\n",
       "2013         85388.0  152527.0        NaN        NaN\n",
       "2014         15336.0       NaN        NaN        NaN"
      ]
     },
     "execution_count": 41,
     "metadata": {},
     "output_type": "execute_result"
    }
   ],
   "source": [
    "df_final['AgeRange'] = df_final.apply(ageRangeFunc, axis = 1)\n",
    "trans_amount = df_final.pivot_table(values='Sales', index='OriginYear', columns='AgeRange', aggfunc = 'sum')\n",
    "trans_amount = trans_amount.cumsum(axis = 1) # axis = 1 to cumsum over columns\n",
    "trans_amount"
   ]
  },
  {
   "cell_type": "markdown",
   "id": "4c31f63a",
   "metadata": {},
   "source": [
    "# Step 5: Calculate the number of new customers (1)"
   ]
  },
  {
   "cell_type": "code",
   "execution_count": 42,
   "id": "2df1bb06",
   "metadata": {},
   "outputs": [
    {
     "data": {
      "text/plain": [
       "True     1667\n",
       "False     792\n",
       "Name: count, dtype: int64"
      ]
     },
     "execution_count": 42,
     "metadata": {},
     "output_type": "execute_result"
    }
   ],
   "source": [
    "df_new_customer = df_final[df_final['OriginYear'] == df_final['Year']]\n",
    "df_new_customer.duplicated(subset = ['Customer Name']).value_counts()"
   ]
  },
  {
   "cell_type": "code",
   "execution_count": 43,
   "id": "fbb55a87",
   "metadata": {
    "scrolled": true
   },
   "outputs": [
    {
     "data": {
      "text/plain": [
       "OriginYear\n",
       "2011    487\n",
       "2012    207\n",
       "2013     80\n",
       "2014     18\n",
       "Name: Customer Name, dtype: int64"
      ]
     },
     "execution_count": 43,
     "metadata": {},
     "output_type": "execute_result"
    }
   ],
   "source": [
    "new_cust = df_final.groupby('OriginYear')['Customer Name'].nunique()\n",
    "new_cust"
   ]
  },
  {
   "cell_type": "markdown",
   "id": "4a142245",
   "metadata": {},
   "source": [
    "There are 792 new customers"
   ]
  },
  {
   "cell_type": "markdown",
   "id": "b0557949",
   "metadata": {},
   "source": [
    "# Step 6: Historic CLV (2)"
   ]
  },
  {
   "cell_type": "code",
   "execution_count": 44,
   "id": "5e4a1b74",
   "metadata": {},
   "outputs": [
    {
     "data": {
      "text/html": [
       "<div>\n",
       "<style scoped>\n",
       "    .dataframe tbody tr th:only-of-type {\n",
       "        vertical-align: middle;\n",
       "    }\n",
       "\n",
       "    .dataframe tbody tr th {\n",
       "        vertical-align: top;\n",
       "    }\n",
       "\n",
       "    .dataframe thead th {\n",
       "        text-align: right;\n",
       "    }\n",
       "</style>\n",
       "<table border=\"1\" class=\"dataframe\">\n",
       "  <thead>\n",
       "    <tr style=\"text-align: right;\">\n",
       "      <th></th>\n",
       "      <th>OriginYear</th>\n",
       "      <th>Age</th>\n",
       "      <th>Sales</th>\n",
       "    </tr>\n",
       "  </thead>\n",
       "  <tbody>\n",
       "    <tr>\n",
       "      <th>0</th>\n",
       "      <td>2011</td>\n",
       "      <td>12</td>\n",
       "      <td>411478.0</td>\n",
       "    </tr>\n",
       "    <tr>\n",
       "      <th>1</th>\n",
       "      <td>2012</td>\n",
       "      <td>12</td>\n",
       "      <td>218287.0</td>\n",
       "    </tr>\n",
       "    <tr>\n",
       "      <th>2</th>\n",
       "      <td>2013</td>\n",
       "      <td>12</td>\n",
       "      <td>85388.0</td>\n",
       "    </tr>\n",
       "    <tr>\n",
       "      <th>3</th>\n",
       "      <td>2014</td>\n",
       "      <td>12</td>\n",
       "      <td>15336.0</td>\n",
       "    </tr>\n",
       "    <tr>\n",
       "      <th>4</th>\n",
       "      <td>2011</td>\n",
       "      <td>24</td>\n",
       "      <td>757733.0</td>\n",
       "    </tr>\n",
       "    <tr>\n",
       "      <th>5</th>\n",
       "      <td>2012</td>\n",
       "      <td>24</td>\n",
       "      <td>390858.0</td>\n",
       "    </tr>\n",
       "    <tr>\n",
       "      <th>6</th>\n",
       "      <td>2013</td>\n",
       "      <td>24</td>\n",
       "      <td>152527.0</td>\n",
       "    </tr>\n",
       "    <tr>\n",
       "      <th>7</th>\n",
       "      <td>2014</td>\n",
       "      <td>24</td>\n",
       "      <td>NaN</td>\n",
       "    </tr>\n",
       "    <tr>\n",
       "      <th>8</th>\n",
       "      <td>2011</td>\n",
       "      <td>36</td>\n",
       "      <td>1142314.0</td>\n",
       "    </tr>\n",
       "    <tr>\n",
       "      <th>9</th>\n",
       "      <td>2012</td>\n",
       "      <td>36</td>\n",
       "      <td>583962.0</td>\n",
       "    </tr>\n",
       "    <tr>\n",
       "      <th>10</th>\n",
       "      <td>2013</td>\n",
       "      <td>36</td>\n",
       "      <td>NaN</td>\n",
       "    </tr>\n",
       "    <tr>\n",
       "      <th>11</th>\n",
       "      <td>2014</td>\n",
       "      <td>36</td>\n",
       "      <td>NaN</td>\n",
       "    </tr>\n",
       "    <tr>\n",
       "      <th>12</th>\n",
       "      <td>2011</td>\n",
       "      <td>48</td>\n",
       "      <td>1591509.0</td>\n",
       "    </tr>\n",
       "    <tr>\n",
       "      <th>13</th>\n",
       "      <td>2012</td>\n",
       "      <td>48</td>\n",
       "      <td>NaN</td>\n",
       "    </tr>\n",
       "    <tr>\n",
       "      <th>14</th>\n",
       "      <td>2013</td>\n",
       "      <td>48</td>\n",
       "      <td>NaN</td>\n",
       "    </tr>\n",
       "    <tr>\n",
       "      <th>15</th>\n",
       "      <td>2014</td>\n",
       "      <td>48</td>\n",
       "      <td>NaN</td>\n",
       "    </tr>\n",
       "  </tbody>\n",
       "</table>\n",
       "</div>"
      ],
      "text/plain": [
       "    OriginYear Age      Sales\n",
       "0         2011  12   411478.0\n",
       "1         2012  12   218287.0\n",
       "2         2013  12    85388.0\n",
       "3         2014  12    15336.0\n",
       "4         2011  24   757733.0\n",
       "5         2012  24   390858.0\n",
       "6         2013  24   152527.0\n",
       "7         2014  24        NaN\n",
       "8         2011  36  1142314.0\n",
       "9         2012  36   583962.0\n",
       "10        2013  36        NaN\n",
       "11        2014  36        NaN\n",
       "12        2011  48  1591509.0\n",
       "13        2012  48        NaN\n",
       "14        2013  48        NaN\n",
       "15        2014  48        NaN"
      ]
     },
     "execution_count": 44,
     "metadata": {},
     "output_type": "execute_result"
    }
   ],
   "source": [
    "unpivot_trans = trans_amount.reset_index().melt(id_vars=[\"OriginYear\"], var_name=\"Age\", value_name=\"Sales\")\n",
    "unpivot_trans"
   ]
  },
  {
   "cell_type": "code",
   "execution_count": 45,
   "id": "fda44415",
   "metadata": {},
   "outputs": [
    {
     "data": {
      "text/html": [
       "<div>\n",
       "<style scoped>\n",
       "    .dataframe tbody tr th:only-of-type {\n",
       "        vertical-align: middle;\n",
       "    }\n",
       "\n",
       "    .dataframe tbody tr th {\n",
       "        vertical-align: top;\n",
       "    }\n",
       "\n",
       "    .dataframe thead th {\n",
       "        text-align: right;\n",
       "    }\n",
       "</style>\n",
       "<table border=\"1\" class=\"dataframe\">\n",
       "  <thead>\n",
       "    <tr style=\"text-align: right;\">\n",
       "      <th></th>\n",
       "      <th>OriginYear</th>\n",
       "      <th>Age</th>\n",
       "      <th>Sales</th>\n",
       "      <th>NewCust</th>\n",
       "      <th>CLV</th>\n",
       "    </tr>\n",
       "  </thead>\n",
       "  <tbody>\n",
       "    <tr>\n",
       "      <th>0</th>\n",
       "      <td>2011</td>\n",
       "      <td>12</td>\n",
       "      <td>411478.0</td>\n",
       "      <td>487</td>\n",
       "      <td>844.924025</td>\n",
       "    </tr>\n",
       "    <tr>\n",
       "      <th>1</th>\n",
       "      <td>2012</td>\n",
       "      <td>12</td>\n",
       "      <td>218287.0</td>\n",
       "      <td>207</td>\n",
       "      <td>1054.526570</td>\n",
       "    </tr>\n",
       "    <tr>\n",
       "      <th>2</th>\n",
       "      <td>2013</td>\n",
       "      <td>12</td>\n",
       "      <td>85388.0</td>\n",
       "      <td>80</td>\n",
       "      <td>1067.350000</td>\n",
       "    </tr>\n",
       "    <tr>\n",
       "      <th>3</th>\n",
       "      <td>2014</td>\n",
       "      <td>12</td>\n",
       "      <td>15336.0</td>\n",
       "      <td>18</td>\n",
       "      <td>852.000000</td>\n",
       "    </tr>\n",
       "    <tr>\n",
       "      <th>4</th>\n",
       "      <td>2011</td>\n",
       "      <td>24</td>\n",
       "      <td>757733.0</td>\n",
       "      <td>487</td>\n",
       "      <td>1555.919918</td>\n",
       "    </tr>\n",
       "    <tr>\n",
       "      <th>5</th>\n",
       "      <td>2012</td>\n",
       "      <td>24</td>\n",
       "      <td>390858.0</td>\n",
       "      <td>207</td>\n",
       "      <td>1888.202899</td>\n",
       "    </tr>\n",
       "    <tr>\n",
       "      <th>6</th>\n",
       "      <td>2013</td>\n",
       "      <td>24</td>\n",
       "      <td>152527.0</td>\n",
       "      <td>80</td>\n",
       "      <td>1906.587500</td>\n",
       "    </tr>\n",
       "    <tr>\n",
       "      <th>7</th>\n",
       "      <td>2014</td>\n",
       "      <td>24</td>\n",
       "      <td>NaN</td>\n",
       "      <td>18</td>\n",
       "      <td>NaN</td>\n",
       "    </tr>\n",
       "    <tr>\n",
       "      <th>8</th>\n",
       "      <td>2011</td>\n",
       "      <td>36</td>\n",
       "      <td>1142314.0</td>\n",
       "      <td>487</td>\n",
       "      <td>2345.613963</td>\n",
       "    </tr>\n",
       "    <tr>\n",
       "      <th>9</th>\n",
       "      <td>2012</td>\n",
       "      <td>36</td>\n",
       "      <td>583962.0</td>\n",
       "      <td>207</td>\n",
       "      <td>2821.072464</td>\n",
       "    </tr>\n",
       "    <tr>\n",
       "      <th>10</th>\n",
       "      <td>2013</td>\n",
       "      <td>36</td>\n",
       "      <td>NaN</td>\n",
       "      <td>80</td>\n",
       "      <td>NaN</td>\n",
       "    </tr>\n",
       "    <tr>\n",
       "      <th>11</th>\n",
       "      <td>2014</td>\n",
       "      <td>36</td>\n",
       "      <td>NaN</td>\n",
       "      <td>18</td>\n",
       "      <td>NaN</td>\n",
       "    </tr>\n",
       "    <tr>\n",
       "      <th>12</th>\n",
       "      <td>2011</td>\n",
       "      <td>48</td>\n",
       "      <td>1591509.0</td>\n",
       "      <td>487</td>\n",
       "      <td>3267.985626</td>\n",
       "    </tr>\n",
       "    <tr>\n",
       "      <th>13</th>\n",
       "      <td>2012</td>\n",
       "      <td>48</td>\n",
       "      <td>NaN</td>\n",
       "      <td>207</td>\n",
       "      <td>NaN</td>\n",
       "    </tr>\n",
       "    <tr>\n",
       "      <th>14</th>\n",
       "      <td>2013</td>\n",
       "      <td>48</td>\n",
       "      <td>NaN</td>\n",
       "      <td>80</td>\n",
       "      <td>NaN</td>\n",
       "    </tr>\n",
       "    <tr>\n",
       "      <th>15</th>\n",
       "      <td>2014</td>\n",
       "      <td>48</td>\n",
       "      <td>NaN</td>\n",
       "      <td>18</td>\n",
       "      <td>NaN</td>\n",
       "    </tr>\n",
       "  </tbody>\n",
       "</table>\n",
       "</div>"
      ],
      "text/plain": [
       "    OriginYear Age      Sales  NewCust          CLV\n",
       "0         2011  12   411478.0      487   844.924025\n",
       "1         2012  12   218287.0      207  1054.526570\n",
       "2         2013  12    85388.0       80  1067.350000\n",
       "3         2014  12    15336.0       18   852.000000\n",
       "4         2011  24   757733.0      487  1555.919918\n",
       "5         2012  24   390858.0      207  1888.202899\n",
       "6         2013  24   152527.0       80  1906.587500\n",
       "7         2014  24        NaN       18          NaN\n",
       "8         2011  36  1142314.0      487  2345.613963\n",
       "9         2012  36   583962.0      207  2821.072464\n",
       "10        2013  36        NaN       80          NaN\n",
       "11        2014  36        NaN       18          NaN\n",
       "12        2011  48  1591509.0      487  3267.985626\n",
       "13        2012  48        NaN      207          NaN\n",
       "14        2013  48        NaN       80          NaN\n",
       "15        2014  48        NaN       18          NaN"
      ]
     },
     "execution_count": 45,
     "metadata": {},
     "output_type": "execute_result"
    }
   ],
   "source": [
    "df_final_trans = unpivot_trans.merge(new_cust, on = 'OriginYear', how = 'left')\n",
    "df_final_trans.rename(columns = {'Customer Name': 'NewCust'}, inplace = True)\n",
    "df_final_trans['CLV'] = df_final_trans['Sales'] / df_final_trans['NewCust']\n",
    "df_final_trans"
   ]
  },
  {
   "cell_type": "code",
   "execution_count": 46,
   "id": "5abf67df",
   "metadata": {
    "scrolled": true
   },
   "outputs": [
    {
     "data": {
      "text/html": [
       "<div>\n",
       "<style scoped>\n",
       "    .dataframe tbody tr th:only-of-type {\n",
       "        vertical-align: middle;\n",
       "    }\n",
       "\n",
       "    .dataframe tbody tr th {\n",
       "        vertical-align: top;\n",
       "    }\n",
       "\n",
       "    .dataframe thead th {\n",
       "        text-align: right;\n",
       "    }\n",
       "</style>\n",
       "<table border=\"1\" class=\"dataframe\">\n",
       "  <thead>\n",
       "    <tr style=\"text-align: right;\">\n",
       "      <th>Age</th>\n",
       "      <th>12</th>\n",
       "      <th>24</th>\n",
       "      <th>36</th>\n",
       "      <th>48</th>\n",
       "    </tr>\n",
       "    <tr>\n",
       "      <th>OriginYear</th>\n",
       "      <th></th>\n",
       "      <th></th>\n",
       "      <th></th>\n",
       "      <th></th>\n",
       "    </tr>\n",
       "  </thead>\n",
       "  <tbody>\n",
       "    <tr>\n",
       "      <th>2011</th>\n",
       "      <td>844.924025</td>\n",
       "      <td>1555.919918</td>\n",
       "      <td>2345.613963</td>\n",
       "      <td>3267.985626</td>\n",
       "    </tr>\n",
       "    <tr>\n",
       "      <th>2012</th>\n",
       "      <td>1054.526570</td>\n",
       "      <td>1888.202899</td>\n",
       "      <td>2821.072464</td>\n",
       "      <td>0.000000</td>\n",
       "    </tr>\n",
       "    <tr>\n",
       "      <th>2013</th>\n",
       "      <td>1067.350000</td>\n",
       "      <td>1906.587500</td>\n",
       "      <td>0.000000</td>\n",
       "      <td>0.000000</td>\n",
       "    </tr>\n",
       "    <tr>\n",
       "      <th>2014</th>\n",
       "      <td>852.000000</td>\n",
       "      <td>0.000000</td>\n",
       "      <td>0.000000</td>\n",
       "      <td>0.000000</td>\n",
       "    </tr>\n",
       "  </tbody>\n",
       "</table>\n",
       "</div>"
      ],
      "text/plain": [
       "Age                  12           24           36           48\n",
       "OriginYear                                                    \n",
       "2011         844.924025  1555.919918  2345.613963  3267.985626\n",
       "2012        1054.526570  1888.202899  2821.072464     0.000000\n",
       "2013        1067.350000  1906.587500     0.000000     0.000000\n",
       "2014         852.000000     0.000000     0.000000     0.000000"
      ]
     },
     "execution_count": 46,
     "metadata": {},
     "output_type": "execute_result"
    }
   ],
   "source": [
    "CLV_table = df_final_trans.pivot_table(values='CLV', index='OriginYear', columns='Age', aggfunc = 'sum')\n",
    "df_final_trans.pivot(columns='Age',values='CLV')\n",
    "CLV_table"
   ]
  },
  {
   "cell_type": "code",
   "execution_count": 47,
   "id": "8a46e9d4",
   "metadata": {},
   "outputs": [
    {
     "data": {
      "text/plain": [
       "<Axes: xlabel='Age', ylabel='CLV'>"
      ]
     },
     "execution_count": 47,
     "metadata": {},
     "output_type": "execute_result"
    },
    {
     "data": {
      "image/png": "[encoded data removed]",
      "text/plain": [
       "<Figure size 640x480 with 1 Axes>"
      ]
     },
     "metadata": {},
     "output_type": "display_data"
    }
   ],
   "source": [
    "sns.lineplot(x = df_final_trans['Age'], y = df_final_trans['CLV'], hue = df_final_trans['OriginYear'])"
   ]
  },
  {
   "cell_type": "markdown",
   "id": "3dd90b8a",
   "metadata": {},
   "source": [
    "# Step 7: Interpreting your results (1)"
   ]
  },
  {
   "cell_type": "markdown",
   "id": "e9aac3bc",
   "metadata": {},
   "source": [
    "### 1. How much have customers acquired in 2011 spent to date?"
   ]
  },
  {
   "cell_type": "markdown",
   "id": "3acb65d2",
   "metadata": {},
   "source": [
    "Customers acquired in 2011 have spent ~ $3,268 to date"
   ]
  },
  {
   "cell_type": "markdown",
   "id": "45e5d8b7",
   "metadata": {},
   "source": [
    "### 2. Does each group of customers exhibit similar or different patterns of spending? What’s the implication for the business?"
   ]
  },
  {
   "cell_type": "markdown",
   "id": "da3c116a",
   "metadata": {},
   "source": [
    "- What we see is that retaining an old customer is more beneficial than acquiring a new one since it gives a higher CLV. Hence, the business should focus on retaining the older ones\n",
    "- The CLV tends to increase with age, suggesting that customers who have been associated with the business for a longer duration contribute more value.\n",
    "- Customers with a tenure of 1 to 12 months spent more in 2012 and 2013 compared to 2011 and 2014.\n",
    "- Seeing the graph, we can notice that in general, customers who joined in 2011 generally spent less than those acquired in subsequent years. Apart from 2011, each group of customers exhibits very similar spending patterns."
   ]
  }
 ],
 "metadata": {
  "kernelspec": {
   "display_name": "Python 3 (ipykernel)",
   "language": "python",
   "name": "python3"
  },
  "language_info": {
   "codemirror_mode": {
    "name": "ipython",
    "version": 3
   },
   "file_extension": ".py",
   "mimetype": "text/x-python",
   "name": "python",
   "nbconvert_exporter": "python",
   "pygments_lexer": "ipython3",
   "version": "3.12.4"
  }
 },
 "nbformat": 4,
 "nbformat_minor": 5
}
